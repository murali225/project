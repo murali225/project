{
  "nbformat": 4,
  "nbformat_minor": 0,
  "metadata": {
    "colab": {
      "provenance": [],
      "authorship_tag": "ABX9TyOkZHmFFgrXexQavYjNI1cP",
      "include_colab_link": true
    },
    "kernelspec": {
      "name": "python3",
      "display_name": "Python 3"
    },
    "language_info": {
      "name": "python"
    }
  },
  "cells": [
    {
      "cell_type": "markdown",
      "metadata": {
        "id": "view-in-github",
        "colab_type": "text"
      },
      "source": [
        "<a href=\"https://colab.research.google.com/github/murali225/project/blob/main/project_playground.ipynb\" target=\"_parent\"><img src=\"https://colab.research.google.com/assets/colab-badge.svg\" alt=\"Open In Colab\"/></a>"
      ]
    },
    {
      "cell_type": "code",
      "execution_count": 1,
      "metadata": {
        "colab": {
          "base_uri": "https://localhost:8080/"
        },
        "id": "b0aWPWYJboSr",
        "outputId": "9c5831f8-35d4-4034-d48a-7905e7e40636"
      },
      "outputs": [
        {
          "output_type": "stream",
          "name": "stdout",
          "text": [
            "Cloning into 'project'...\n",
            "remote: Enumerating objects: 19, done.\u001b[K\n",
            "remote: Counting objects: 100% (19/19), done.\u001b[K\n",
            "remote: Compressing objects: 100% (16/16), done.\u001b[K\n",
            "remote: Total 19 (delta 2), reused 14 (delta 1), pack-reused 0\u001b[K\n",
            "Receiving objects: 100% (19/19), done.\n",
            "Resolving deltas: 100% (2/2), done.\n"
          ]
        }
      ],
      "source": [
        "!git clone https://github.com/murali225/project.git"
      ]
    },
    {
      "cell_type": "code",
      "source": [
        "from project.dtsc5502.version import __version__\n",
        "import project.dtsc5502.statistics as stats\n",
        "import project.dtsc5502.probabilities as probs\n",
        "\n",
        "print(__version__)\n",
        "lst = [1,2,3]\n",
        "print(stats.descriptive.mean(lst))\n",
        "print(probs.functions.factorial(3))\n",
        ""
      ],
      "metadata": {
        "colab": {
          "base_uri": "https://localhost:8080/"
        },
        "id": "s1eoye8TcAhU",
        "outputId": "c4dd3b9d-d654-4551-e2bc-5923843ca09b"
      },
      "execution_count": 2,
      "outputs": [
        {
          "output_type": "stream",
          "name": "stdout",
          "text": [
            "DTSC5502 Version: 0.1.0\n",
            "2.0\n",
            "6\n"
          ]
        }
      ]
    }
  ]
}